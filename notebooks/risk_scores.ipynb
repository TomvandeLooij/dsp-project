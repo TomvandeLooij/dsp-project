{
 "cells": [
  {
   "cell_type": "code",
   "execution_count": 2,
   "metadata": {},
   "outputs": [],
   "source": [
    "import pandas as pd\n",
    "\n",
    "from collections import Counter, OrderedDict\n",
    "from ast import literal_eval"
   ]
  },
  {
   "cell_type": "code",
   "execution_count": 3,
   "metadata": {},
   "outputs": [],
   "source": [
    "df = pd.read_csv(\"../data/city_area_buildings.csv\", usecols=[\"pand_id\", \"gebruiksdoelVerblijfsobject\", \"neighbors\", \"linked_small\", \"linked_big\"])"
   ]
  },
  {
   "cell_type": "code",
   "execution_count": 18,
   "metadata": {},
   "outputs": [],
   "source": [
    "roads = pd.read_csv('../data/road_scores_in_radius.csv')"
   ]
  },
  {
   "cell_type": "code",
   "execution_count": 22,
   "metadata": {},
   "outputs": [],
   "source": [
    "roads = roads.drop('Unnamed: 0', axis = 1)"
   ]
  },
  {
   "cell_type": "code",
   "execution_count": 25,
   "metadata": {},
   "outputs": [
    {
     "name": "stdout",
     "output_type": "stream",
     "text": [
      "['industriefunctie', 'woonfunctie', 'kantoorfunctie', 'overige gebruiksfunctie', 'onderwijsfunctie', 'winkelfunctie', 'bijeenkomstfunctie', 'gezondheidszorgfunctie', 'sportfunctie', 'logiesfunctie', 'celfunctie']\n"
     ]
    }
   ],
   "source": [
    "unique_functions = []\n",
    "\n",
    "for index, row in df.iterrows():\n",
    "    functions = literal_eval(row.gebruiksdoelVerblijfsobject)\n",
    "    \n",
    "    for item in functions:\n",
    "        if item not in unique_functions:\n",
    "            unique_functions.append(item)\n",
    "            \n",
    "print(unique_functions)"
   ]
  },
  {
   "cell_type": "code",
   "execution_count": 25,
   "metadata": {},
   "outputs": [],
   "source": [
    "risk_classes = {\n",
    "    'overige gebruiksfunctie' : 1, \n",
    "    'winkelfunctie' : 1,\n",
    "    'sportfunctie' : 1, \n",
    "    'logiesfunctie' : 1, \n",
    "    'celfunctie' : 2,\n",
    "    'industriefunctie' : 2,\n",
    "    'kantoorfunctie' : 2, \n",
    "    'woonfunctie' : 3,\n",
    "    'bijeenkomstfunctie' : 3, \n",
    "    'onderwijsfunctie' : 4, \n",
    "    'gezondheidszorgfunctie' : 4\n",
    "}"
   ]
  },
  {
   "cell_type": "code",
   "execution_count": 45,
   "metadata": {},
   "outputs": [],
   "source": [
    "def calculate_risk_small(row):\n",
    "    df_building = df[df.pand_id == float(row['pand_id'])]\n",
    "    functions_building = literal_eval(df_building.gebruiksdoelVerblijfsobject.values[0])\n",
    "    functions = Counter(functions_building)\n",
    "\n",
    "    # get neighbors functions\n",
    "    df_neighbors = list(df[df.pand_id.isin(literal_eval(df_building.neighbors.values[0]))].gebruiksdoelVerblijfsobject)\n",
    "    neighbor_functions = [item for lijst in df_neighbors for item in literal_eval(lijst)]\n",
    "    neighbor_functions = Counter(neighbor_functions)\n",
    "\n",
    "    column = \"linked_small\"\n",
    "\n",
    "    linked_buildings = list(df[df.pand_id.isin(literal_eval(df_building[column].values[0]))].gebruiksdoelVerblijfsobject)\n",
    "    linked_functions = [item for lijst in linked_buildings for item in literal_eval(lijst)]\n",
    "    linked_functions = Counter(linked_functions)\n",
    "    \n",
    "    score = 0\n",
    "\n",
    "    for item in dict(neighbor_functions).items():    \n",
    "        score += risk_classes[item[0]] * item[1]\n",
    "\n",
    "    for item in dict(linked_functions).items():    \n",
    "        score += risk_classes[item[0]] * item[1]\n",
    "        \n",
    "    score = score * float(roads[roads['pand_id'] == float(row['pand_id'])]['small_fire'])\n",
    "        \n",
    "    return round(score, 2)\n",
    "\n",
    "def calculate_risk_big(row):\n",
    "    df_building = df[df.pand_id == float(row['pand_id'])]\n",
    "    functions_building = literal_eval(df_building.gebruiksdoelVerblijfsobject.values[0])\n",
    "    functions = Counter(functions_building)\n",
    "\n",
    "    # get neighbors functions\n",
    "    df_neighbors = list(df[df.pand_id.isin(literal_eval(df_building.neighbors.values[0]))].gebruiksdoelVerblijfsobject)\n",
    "    neighbor_functions = [item for lijst in df_neighbors for item in literal_eval(lijst)]\n",
    "    neighbor_functions = Counter(neighbor_functions)\n",
    "\n",
    "    column = \"linked_big\"\n",
    "\n",
    "    linked_buildings = list(df[df.pand_id.isin(literal_eval(df_building[column].values[0]))].gebruiksdoelVerblijfsobject)\n",
    "    linked_functions = [item for lijst in linked_buildings for item in literal_eval(lijst)]\n",
    "    linked_functions = Counter(linked_functions)\n",
    "    \n",
    "    score = 0\n",
    "\n",
    "    for item in dict(neighbor_functions).items():    \n",
    "        score += risk_classes[item[0]] * item[1]\n",
    "\n",
    "    for item in dict(linked_functions).items():    \n",
    "        score += risk_classes[item[0]] * item[1]\n",
    "        \n",
    "    score = score * float(roads[roads['pand_id'] == float(row['pand_id'])]['big_fire'])\n",
    "\n",
    "    return round(score, 2)"
   ]
  },
  {
   "cell_type": "code",
   "execution_count": 40,
   "metadata": {},
   "outputs": [],
   "source": [
    "df['risk_score_small'] = df.apply(calculate_risk_small, axis = 1)\n",
    "df['risk_score_big']   = df.apply(calculate_risk_big, axis = 1)"
   ]
  },
  {
   "cell_type": "code",
   "execution_count": 41,
   "metadata": {},
   "outputs": [],
   "source": [
    "df_scores = df[['pand_id', 'risk_score_small', 'risk_score_big']]"
   ]
  },
  {
   "cell_type": "code",
   "execution_count": 42,
   "metadata": {},
   "outputs": [],
   "source": [
    "from sklearn import preprocessing\n",
    "\n",
    "x              = df_scores[['risk_score_small']].values\n",
    "min_max_scaler = preprocessing.MinMaxScaler()\n",
    "x_scaled       = min_max_scaler.fit_transform(x)\n",
    "df_normalized  = pd.DataFrame(x_scaled)\n",
    "joined         = df_scores.join(df_normalized)\n",
    "final          = joined.rename(columns={ joined.columns[3]: \"small_normalized\" })\n",
    "\n",
    "x              = final[['risk_score_big']].values\n",
    "min_max_scaler = preprocessing.MinMaxScaler()\n",
    "x_scaled       = min_max_scaler.fit_transform(x)\n",
    "df_normalized  = pd.DataFrame(x_scaled)\n",
    "joined         = final.join(df_normalized)\n",
    "final          = joined.rename(columns={ joined.columns[4]: \"big_normalized\" })"
   ]
  },
  {
   "cell_type": "code",
   "execution_count": 43,
   "metadata": {},
   "outputs": [
    {
     "data": {
      "text/html": [
       "<div>\n",
       "<style scoped>\n",
       "    .dataframe tbody tr th:only-of-type {\n",
       "        vertical-align: middle;\n",
       "    }\n",
       "\n",
       "    .dataframe tbody tr th {\n",
       "        vertical-align: top;\n",
       "    }\n",
       "\n",
       "    .dataframe thead th {\n",
       "        text-align: right;\n",
       "    }\n",
       "</style>\n",
       "<table border=\"1\" class=\"dataframe\">\n",
       "  <thead>\n",
       "    <tr style=\"text-align: right;\">\n",
       "      <th></th>\n",
       "      <th>pand_id</th>\n",
       "      <th>risk_score_small</th>\n",
       "      <th>risk_score_big</th>\n",
       "      <th>small_normalized</th>\n",
       "      <th>big_normalized</th>\n",
       "    </tr>\n",
       "  </thead>\n",
       "  <tbody>\n",
       "    <tr>\n",
       "      <th>106</th>\n",
       "      <td>3.631000e+14</td>\n",
       "      <td>4</td>\n",
       "      <td>1231</td>\n",
       "      <td>0.002632</td>\n",
       "      <td>0.658289</td>\n",
       "    </tr>\n",
       "  </tbody>\n",
       "</table>\n",
       "</div>"
      ],
      "text/plain": [
       "          pand_id  risk_score_small  risk_score_big  small_normalized  \\\n",
       "106  3.631000e+14                 4            1231          0.002632   \n",
       "\n",
       "     big_normalized  \n",
       "106        0.658289  "
      ]
     },
     "execution_count": 43,
     "metadata": {},
     "output_type": "execute_result"
    }
   ],
   "source": [
    "final[final['pand_id'] == 363100012124921]"
   ]
  },
  {
   "cell_type": "code",
   "execution_count": 35,
   "metadata": {},
   "outputs": [],
   "source": [
    "final.to_csv('../data/risk_scores.csv')"
   ]
  }
 ],
 "metadata": {
  "kernelspec": {
   "display_name": "Python 3",
   "language": "python",
   "name": "python3"
  },
  "language_info": {
   "codemirror_mode": {
    "name": "ipython",
    "version": 3
   },
   "file_extension": ".py",
   "mimetype": "text/x-python",
   "name": "python",
   "nbconvert_exporter": "python",
   "pygments_lexer": "ipython3",
   "version": "3.8.2"
  }
 },
 "nbformat": 4,
 "nbformat_minor": 4
}
