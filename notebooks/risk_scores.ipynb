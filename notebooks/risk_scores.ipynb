{
 "cells": [
  {
   "cell_type": "code",
   "execution_count": 12,
   "metadata": {},
   "outputs": [],
   "source": [
    "import pandas as pd\n",
    "\n",
    "from collections import Counter, OrderedDict\n",
    "from ast import literal_eval"
   ]
  },
  {
   "cell_type": "code",
   "execution_count": 56,
   "metadata": {},
   "outputs": [],
   "source": [
    "df = pd.read_csv(\"../data/city_area_buildings.csv\", usecols=[\"pand_id\", \"gebruiksdoelVerblijfsobject\", \"neighbors\", \"linked_small\", \"linked_big\"])"
   ]
  },
  {
   "cell_type": "code",
   "execution_count": 25,
   "metadata": {},
   "outputs": [
    {
     "name": "stdout",
     "output_type": "stream",
     "text": [
      "['industriefunctie', 'woonfunctie', 'kantoorfunctie', 'overige gebruiksfunctie', 'onderwijsfunctie', 'winkelfunctie', 'bijeenkomstfunctie', 'gezondheidszorgfunctie', 'sportfunctie', 'logiesfunctie', 'celfunctie']\n"
     ]
    }
   ],
   "source": [
    "unique_functions = []\n",
    "\n",
    "for index, row in df.iterrows():\n",
    "    functions = literal_eval(row.gebruiksdoelVerblijfsobject)\n",
    "    \n",
    "    for item in functions:\n",
    "        if item not in unique_functions:\n",
    "            unique_functions.append(item)\n",
    "            \n",
    "print(unique_functions)"
   ]
  },
  {
   "cell_type": "code",
   "execution_count": 45,
   "metadata": {},
   "outputs": [],
   "source": [
    "risk_classes = {\n",
    "    'overige gebruiksfunctie' : 1, \n",
    "    'winkelfunctie' : 1,\n",
    "    'sportfunctie' : 1, \n",
    "    'logiesfunctie' : 1, \n",
    "    'celfunctie' : 2,\n",
    "    'industriefunctie' : 2,\n",
    "    'kantoorfunctie' : 2, \n",
    "    'woonfunctie' : 3,\n",
    "    'bijeenkomstfunctie' : 3, \n",
    "    'onderwijsfunctie' : 4, \n",
    "    'gezondheidszorgfunctie' : 4\n",
    "}"
   ]
  },
  {
   "cell_type": "code",
   "execution_count": 53,
   "metadata": {},
   "outputs": [],
   "source": [
    "def calculate_risk_small(row):\n",
    "    df_building = df[df.pand_id == float(row['pand_id'])]\n",
    "    functions_building = literal_eval(df_building.gebruiksdoelVerblijfsobject.values[0])\n",
    "    functions = Counter(functions_building)\n",
    "\n",
    "    # get neighbors functions\n",
    "    df_neighbors = list(df[df.pand_id.isin(literal_eval(df_building.neighbors.values[0]))].gebruiksdoelVerblijfsobject)\n",
    "    neighbor_functions = [item for lijst in df_neighbors for item in literal_eval(lijst)]\n",
    "    neighbor_functions = Counter(neighbor_functions)\n",
    "\n",
    "    column = \"linked_small\"\n",
    "\n",
    "    linked_buildings = list(df[df.pand_id.isin(literal_eval(df_building[column].values[0]))].gebruiksdoelVerblijfsobject)\n",
    "    linked_functions = [item for lijst in linked_buildings for item in literal_eval(lijst)]\n",
    "    linked_functions = Counter(linked_functions)\n",
    "    \n",
    "    score = 0\n",
    "\n",
    "    for item in dict(neighbor_functions).items():    \n",
    "        score += risk_classes[item[0]] * item[1]\n",
    "\n",
    "    for item in dict(linked_functions).items():    \n",
    "        score += risk_classes[item[0]] * item[1]\n",
    "        \n",
    "    return score\n",
    "\n",
    "def calculate_risk_big(row):\n",
    "    df_building = df[df.pand_id == float(row['pand_id'])]\n",
    "    functions_building = literal_eval(df_building.gebruiksdoelVerblijfsobject.values[0])\n",
    "    functions = Counter(functions_building)\n",
    "\n",
    "    # get neighbors functions\n",
    "    df_neighbors = list(df[df.pand_id.isin(literal_eval(df_building.neighbors.values[0]))].gebruiksdoelVerblijfsobject)\n",
    "    neighbor_functions = [item for lijst in df_neighbors for item in literal_eval(lijst)]\n",
    "    neighbor_functions = Counter(neighbor_functions)\n",
    "\n",
    "    column = \"linked_big\"\n",
    "\n",
    "    linked_buildings = list(df[df.pand_id.isin(literal_eval(df_building[column].values[0]))].gebruiksdoelVerblijfsobject)\n",
    "    linked_functions = [item for lijst in linked_buildings for item in literal_eval(lijst)]\n",
    "    linked_functions = Counter(linked_functions)\n",
    "    \n",
    "    score = 0\n",
    "\n",
    "    for item in dict(neighbor_functions).items():    \n",
    "        score += risk_classes[item[0]] * item[1]\n",
    "\n",
    "    for item in dict(linked_functions).items():    \n",
    "        score += risk_classes[item[0]] * item[1]\n",
    "        \n",
    "    return score"
   ]
  },
  {
   "cell_type": "code",
   "execution_count": 57,
   "metadata": {},
   "outputs": [],
   "source": [
    "df['risk_score_small'] = df.apply(calculate_risk_small, axis = 1)\n",
    "df['risk_score_big']   = df.apply(calculate_risk_big, axis = 1)"
   ]
  },
  {
   "cell_type": "code",
   "execution_count": 59,
   "metadata": {},
   "outputs": [],
   "source": [
    "df_scores = df[['pand_id', 'risk_score_small', 'risk_score_big']]"
   ]
  },
  {
   "cell_type": "code",
   "execution_count": 67,
   "metadata": {},
   "outputs": [],
   "source": [
    "from sklearn import preprocessing\n",
    "\n",
    "x              = df_scores[['risk_score_small']].values\n",
    "min_max_scaler = preprocessing.MinMaxScaler()\n",
    "x_scaled       = min_max_scaler.fit_transform(x)\n",
    "df_normalized  = pd.DataFrame(x_scaled)\n",
    "joined         = df_scores.join(df_normalized)\n",
    "final          = joined.rename(columns={ joined.columns[3]: \"small_normalized\" })\n",
    "\n",
    "x              = final[['risk_score_big']].values\n",
    "min_max_scaler = preprocessing.MinMaxScaler()\n",
    "x_scaled       = min_max_scaler.fit_transform(x)\n",
    "df_normalized  = pd.DataFrame(x_scaled)\n",
    "joined         = final.join(df_normalized)\n",
    "final          = joined.rename(columns={ joined.columns[4]: \"big_normalized\" })"
   ]
  },
  {
   "cell_type": "code",
   "execution_count": 74,
   "metadata": {},
   "outputs": [],
   "source": [
    "final.to_csv('../data/risk_scores.csv')"
   ]
  },
  {
   "cell_type": "code",
   "execution_count": 80,
   "metadata": {},
   "outputs": [
    {
     "data": {
      "text/plain": [
       "345"
      ]
     },
     "execution_count": 80,
     "metadata": {},
     "output_type": "execute_result"
    }
   ],
   "source": [
    "final[final['pand_id'] == float(363100012239578)]['risk_score_small'].values[0]"
   ]
  }
 ],
 "metadata": {
  "kernelspec": {
   "display_name": "Python 3",
   "language": "python",
   "name": "python3"
  },
  "language_info": {
   "codemirror_mode": {
    "name": "ipython",
    "version": 3
   },
   "file_extension": ".py",
   "mimetype": "text/x-python",
   "name": "python",
   "nbconvert_exporter": "python",
   "pygments_lexer": "ipython3",
   "version": "3.8.2"
  }
 },
 "nbformat": 4,
 "nbformat_minor": 4
}
