{
 "cells": [
  {
   "cell_type": "code",
   "execution_count": 42,
   "metadata": {},
   "outputs": [],
   "source": [
    "from shapely import geometry\n",
    "import math\n",
    "import matplotlib.pyplot as plt"
   ]
  },
  {
   "cell_type": "code",
   "execution_count": 63,
   "metadata": {},
   "outputs": [],
   "source": [
    "coordinates = [[53.31960, 6.81197], [53.31961, 6.81205], [53.31968, 6.81202], [53.31967, 6.81194], [53.31960, 6.81197]]"
   ]
  },
  {
   "cell_type": "code",
   "execution_count": 64,
   "metadata": {},
   "outputs": [],
   "source": [
    "polygon = geometry.Polygon(coordinates)"
   ]
  },
  {
   "cell_type": "code",
   "execution_count": 67,
   "metadata": {},
   "outputs": [
    {
     "data": {
      "text/plain": [
       "[53.31964, 6.811994999999998]"
      ]
     },
     "execution_count": 67,
     "metadata": {},
     "output_type": "execute_result"
    }
   ],
   "source": [
    "list(polygon.centroid.coords[0])"
   ]
  },
  {
   "cell_type": "code",
   "execution_count": 66,
   "metadata": {},
   "outputs": [
    {
     "data": {
      "image/svg+xml": [
       "<svg xmlns=\"http://www.w3.org/2000/svg\" xmlns:xlink=\"http://www.w3.org/1999/xlink\" width=\"100.0\" height=\"100.0\" viewBox=\"53.3195956 6.8119356 8.880000000033306e-05 0.0001188000000000855\" preserveAspectRatio=\"xMinYMin meet\"><g transform=\"matrix(1,0,0,-1,0,13.62399)\"><path fill-rule=\"evenodd\" fill=\"#66cc99\" stroke=\"#555555\" stroke-width=\"2.37600000000171e-06\" opacity=\"0.6\" d=\"M 53.3196,6.81197 L 53.31961,6.81205 L 53.31968,6.81202 L 53.31967,6.81194 L 53.3196,6.81197 z\" /></g></svg>"
      ],
      "text/plain": [
       "<shapely.geometry.polygon.Polygon at 0x15445107988>"
      ]
     },
     "execution_count": 66,
     "metadata": {},
     "output_type": "execute_result"
    }
   ],
   "source": [
    "polygon"
   ]
  },
  {
   "cell_type": "code",
   "execution_count": 73,
   "metadata": {},
   "outputs": [
    {
     "name": "stdout",
     "output_type": "stream",
     "text": [
      "Wall time: 0 ns\n"
     ]
    }
   ],
   "source": [
    "%%time\n",
    "center = [53.31964, 6.811994999999998]\n",
    "coordinates = [[53.31960, 6.81197], [53.31961, 6.81205], [53.31968, 6.81202], [53.31967, 6.81194], [53.31960, 6.81197]]\n",
    "# in kilometers??\n",
    "d = 10/1000\n",
    "r_earth = 6378\n",
    "\n",
    "new_cs = []\n",
    "\n",
    "for coord in coordinates:\n",
    "    # point above or under center:\n",
    "    if coord[0] > center[0]:\n",
    "        new_latitude  = coord[0]  + (d / r_earth) * (180 / math.pi);\n",
    "    else:\n",
    "        new_latitude  = coord[0]  - (d / r_earth) * (180 / math.pi);\n",
    "    \n",
    "    # point left or right center\n",
    "    if coord[1] > center[1]:\n",
    "        new_longitude = coord[1] + (d / r_earth) * (180 / math.pi) / math.cos(coord[0] * math.pi/180);\n",
    "    else:\n",
    "        new_longitude = coord[1] - (d / r_earth) * (180 / math.pi) / math.cos(coord[0] * math.pi/180);\n",
    "        \n",
    "    new_cs.append([new_latitude, new_longitude])"
   ]
  },
  {
   "cell_type": "code",
   "execution_count": 74,
   "metadata": {},
   "outputs": [],
   "source": [
    "polygon2 = geometry.Polygon(new_cs)"
   ]
  },
  {
   "cell_type": "code",
   "execution_count": 75,
   "metadata": {},
   "outputs": [
    {
     "data": {
      "image/svg+xml": [
       "<svg xmlns=\"http://www.w3.org/2000/svg\" xmlns:xlink=\"http://www.w3.org/1999/xlink\" width=\"100.0\" height=\"100.0\" viewBox=\"53.3195956 6.8119356 8.880000000033306e-05 0.0001188000000000855\" preserveAspectRatio=\"xMinYMin meet\"><g transform=\"matrix(1,0,0,-1,0,13.62399)\"><path fill-rule=\"evenodd\" fill=\"#66cc99\" stroke=\"#555555\" stroke-width=\"2.37600000000171e-06\" opacity=\"0.6\" d=\"M 53.3196,6.81197 L 53.31961,6.81205 L 53.31968,6.81202 L 53.31967,6.81194 L 53.3196,6.81197 z\" /></g></svg>"
      ],
      "text/plain": [
       "<shapely.geometry.polygon.Polygon at 0x15445107988>"
      ]
     },
     "execution_count": 75,
     "metadata": {},
     "output_type": "execute_result"
    }
   ],
   "source": [
    "polygon"
   ]
  },
  {
   "cell_type": "code",
   "execution_count": 76,
   "metadata": {},
   "outputs": [
    {
     "data": {
      "image/svg+xml": [
       "<svg xmlns=\"http://www.w3.org/2000/svg\" xmlns:xlink=\"http://www.w3.org/1999/xlink\" width=\"100.0\" height=\"100.0\" viewBox=\"53.31949373561657 6.811773182400956 0.00029252876686314266 0.000443634986655006\" preserveAspectRatio=\"xMinYMin meet\"><g transform=\"matrix(1,0,0,-1,0,13.623989999788567)\"><path fill-rule=\"evenodd\" fill=\"#66cc99\" stroke=\"#555555\" stroke-width=\"8.87269973310012e-06\" opacity=\"0.6\" d=\"M 53.319510166542,6.81181961357306 L 53.319520166542,6.812200386462179 L 53.319769833458,6.812170386708851 L 53.319759833458,6.811789613326388 L 53.319510166542,6.81181961357306 z\" /></g></svg>"
      ],
      "text/plain": [
       "<shapely.geometry.polygon.Polygon at 0x154455c1888>"
      ]
     },
     "execution_count": 76,
     "metadata": {},
     "output_type": "execute_result"
    }
   ],
   "source": [
    "polygon2"
   ]
  },
  {
   "cell_type": "code",
   "execution_count": 82,
   "metadata": {},
   "outputs": [
    {
     "name": "stdout",
     "output_type": "stream",
     "text": [
      "array('d', [53.3196, 53.31961, 53.31968, 53.31967, 53.3196]) array('d', [6.81197, 6.81205, 6.81202, 6.81194, 6.81197])\n"
     ]
    },
    {
     "data": {
      "text/plain": [
       "[<matplotlib.lines.Line2D at 0x1544623d088>]"
      ]
     },
     "execution_count": 82,
     "metadata": {},
     "output_type": "execute_result"
    },
    {
     "data": {
      "image/png": "[encoded data removed]",
      "text/plain": [
       "<Figure size 432x288 with 1 Axes>"
      ]
     },
     "metadata": {
      "needs_background": "light"
     },
     "output_type": "display_data"
    }
   ],
   "source": [
    "x,y = polygon.exterior.xy\n",
    "l,k = polygon2.exterior.xy\n",
    "print(x,y)\n",
    "\n",
    "plt.plot(y,x)\n",
    "plt.plot(k,l)"
   ]
  },
  {
   "cell_type": "code",
   "execution_count": 62,
   "metadata": {},
   "outputs": [
    {
     "data": {
      "image/svg+xml": [
       "<svg xmlns=\"http://www.w3.org/2000/svg\" xmlns:xlink=\"http://www.w3.org/1999/xlink\" width=\"100.0\" height=\"100.0\" viewBox=\"0.84 0.84 4.32 4.32\" preserveAspectRatio=\"xMinYMin meet\"><g transform=\"matrix(1,0,0,-1,0,6.0)\"><polyline fill=\"none\" stroke=\"#66cc99\" stroke-width=\"0.0864\" points=\"1.0,4.0 5.0,5.0 4.0,2.0 2.0,1.0 1.0,4.0\" opacity=\"0.8\" /></g></svg>"
      ],
      "text/plain": [
       "<shapely.geometry.polygon.LinearRing at 0x1544466a508>"
      ]
     },
     "execution_count": 62,
     "metadata": {},
     "output_type": "execute_result"
    }
   ],
   "source": [
    "polygon.exterior"
   ]
  },
  {
   "cell_type": "code",
   "execution_count": null,
   "metadata": {},
   "outputs": [],
   "source": [
    "known_point = [53.31960, 6.81197]\n",
    "center = [53.31964, 6.811994999999998]\n",
    "d = 10/1000\n",
    "r_earth = 6378\n",
    "d_latitude = (d / r_earth) * (180 / math.pi)\n",
    "d_longitude = (d / r_earth) * (180 / math.pi) / math.cos(coord[0] * math.pi/180)\n",
    "\n"
   ]
  },
  {
   "cell_type": "code",
   "execution_count": 92,
   "metadata": {},
   "outputs": [
    {
     "data": {
      "text/plain": [
       "[]"
      ]
     },
     "execution_count": 92,
     "metadata": {},
     "output_type": "execute_result"
    }
   ],
   "source": [
    "import pyclipper\n",
    "\n",
    "subj = ((2,1), (4,2), (2,3))\n",
    "\n",
    "pco = pyclipper.PyclipperOffset()\n",
    "pco.AddPath(subj, pyclipper.JT_ROUND, pyclipper.ET_CLOSEDPOLYGON)\n",
    "pco.Execute(-7.0)"
   ]
  },
  {
   "cell_type": "code",
   "execution_count": 54,
   "metadata": {},
   "outputs": [
    {
     "name": "stdout",
     "output_type": "stream",
     "text": [
      "52.37807710358412\n",
      "52.37825337269062\n",
      "4.883422987270737\n",
      "4.883649431675575\n"
     ]
    }
   ],
   "source": [
    "import pandas as pd\n",
    "import pyclipper\n",
    "import numpy as np\n",
    "from ast import literal_eval\n",
    "\n",
    "\n",
    "pand_id = 363300000002529.0\n",
    "\n",
    "df          = pd.read_csv('../data/test.csv')\n",
    "building    = df[df['ruimte_id'] == pand_id].iloc[0]\n",
    "coordinates = building['WGS']\n",
    "coordinates = np.array(literal_eval(coordinates))\n",
    "\n",
    "print(coordinates[:,0].min())\n",
    "print(coordinates[:,0].max())\n",
    "\n",
    "print(coordinates[:,1].min())\n",
    "print(coordinates[:,1].max())"
   ]
  }
 ],
 "metadata": {
  "kernelspec": {
   "display_name": "Python 3",
   "language": "python",
   "name": "python3"
  },
  "language_info": {
   "codemirror_mode": {
    "name": "ipython",
    "version": 3
   },
   "file_extension": ".py",
   "mimetype": "text/x-python",
   "name": "python",
   "nbconvert_exporter": "python",
   "pygments_lexer": "ipython3",
   "version": "3.8.2"
  }
 },
 "nbformat": 4,
 "nbformat_minor": 4
}
