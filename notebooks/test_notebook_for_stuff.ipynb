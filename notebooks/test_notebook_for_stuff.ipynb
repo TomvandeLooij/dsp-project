{
 "cells": [
  {
   "cell_type": "code",
   "execution_count": 70,
   "metadata": {},
   "outputs": [],
   "source": [
    "from shapely import geometry\n",
    "import math\n",
    "import matplotlib.pyplot as plt"
   ]
  },
  {
   "cell_type": "code",
   "execution_count": 63,
   "metadata": {},
   "outputs": [],
   "source": [
    "coordinates = [[53.31960, 6.81197], [53.31961, 6.81205], [53.31968, 6.81202], [53.31967, 6.81194], [53.31960, 6.81197]]"
   ]
  },
  {
   "cell_type": "code",
   "execution_count": 64,
   "metadata": {},
   "outputs": [],
   "source": [
    "polygon = geometry.Polygon(coordinates)"
   ]
  },
  {
   "cell_type": "code",
   "execution_count": 67,
   "metadata": {},
   "outputs": [
    {
     "data": {
      "text/plain": [
       "[53.31964, 6.811994999999998]"
      ]
     },
     "execution_count": 67,
     "metadata": {},
     "output_type": "execute_result"
    }
   ],
   "source": [
    "list(polygon.centroid.coords[0])"
   ]
  },
  {
   "cell_type": "code",
   "execution_count": 66,
   "metadata": {},
   "outputs": [
    {
     "data": {
      "image/svg+xml": [
       "<svg xmlns=\"http://www.w3.org/2000/svg\" xmlns:xlink=\"http://www.w3.org/1999/xlink\" width=\"100.0\" height=\"100.0\" viewBox=\"53.3195956 6.8119356 8.880000000033306e-05 0.0001188000000000855\" preserveAspectRatio=\"xMinYMin meet\"><g transform=\"matrix(1,0,0,-1,0,13.62399)\"><path fill-rule=\"evenodd\" fill=\"#66cc99\" stroke=\"#555555\" stroke-width=\"2.37600000000171e-06\" opacity=\"0.6\" d=\"M 53.3196,6.81197 L 53.31961,6.81205 L 53.31968,6.81202 L 53.31967,6.81194 L 53.3196,6.81197 z\" /></g></svg>"
      ],
      "text/plain": [
       "<shapely.geometry.polygon.Polygon at 0x15445107988>"
      ]
     },
     "execution_count": 66,
     "metadata": {},
     "output_type": "execute_result"
    }
   ],
   "source": [
    "polygon"
   ]
  },
  {
   "cell_type": "code",
   "execution_count": 73,
   "metadata": {},
   "outputs": [
    {
     "name": "stdout",
     "output_type": "stream",
     "text": [
      "Wall time: 0 ns\n"
     ]
    }
   ],
   "source": [
    "%%time\n",
    "center = [53.31964, 6.811994999999998]\n",
    "coordinates = [[53.31960, 6.81197], [53.31961, 6.81205], [53.31968, 6.81202], [53.31967, 6.81194], [53.31960, 6.81197]]\n",
    "# in kilometers??\n",
    "d = 10/1000\n",
    "r_earth = 6378\n",
    "\n",
    "new_cs = []\n",
    "\n",
    "for coord in coordinates:\n",
    "    # point above or under center:\n",
    "    if coord[0] > center[0]:\n",
    "        new_latitude  = coord[0]  + (d / r_earth) * (180 / math.pi);\n",
    "    else:\n",
    "        new_latitude  = coord[0]  - (d / r_earth) * (180 / math.pi);\n",
    "    \n",
    "    # point left or right center\n",
    "    if coord[1] > center[1]:\n",
    "        new_longitude = coord[1] + (d / r_earth) * (180 / math.pi) / math.cos(coord[0] * math.pi/180);\n",
    "    else:\n",
    "        new_longitude = coord[1] - (d / r_earth) * (180 / math.pi) / math.cos(coord[0] * math.pi/180);\n",
    "        \n",
    "    new_cs.append([new_latitude, new_longitude])"
   ]
  },
  {
   "cell_type": "code",
   "execution_count": 74,
   "metadata": {},
   "outputs": [],
   "source": [
    "polygon2 = geometry.Polygon(new_cs)"
   ]
  },
  {
   "cell_type": "code",
   "execution_count": 75,
   "metadata": {},
   "outputs": [
    {
     "data": {
      "image/svg+xml": [
       "<svg xmlns=\"http://www.w3.org/2000/svg\" xmlns:xlink=\"http://www.w3.org/1999/xlink\" width=\"100.0\" height=\"100.0\" viewBox=\"53.3195956 6.8119356 8.880000000033306e-05 0.0001188000000000855\" preserveAspectRatio=\"xMinYMin meet\"><g transform=\"matrix(1,0,0,-1,0,13.62399)\"><path fill-rule=\"evenodd\" fill=\"#66cc99\" stroke=\"#555555\" stroke-width=\"2.37600000000171e-06\" opacity=\"0.6\" d=\"M 53.3196,6.81197 L 53.31961,6.81205 L 53.31968,6.81202 L 53.31967,6.81194 L 53.3196,6.81197 z\" /></g></svg>"
      ],
      "text/plain": [
       "<shapely.geometry.polygon.Polygon at 0x15445107988>"
      ]
     },
     "execution_count": 75,
     "metadata": {},
     "output_type": "execute_result"
    }
   ],
   "source": [
    "polygon"
   ]
  },
  {
   "cell_type": "code",
   "execution_count": 76,
   "metadata": {},
   "outputs": [
    {
     "data": {
      "image/svg+xml": [
       "<svg xmlns=\"http://www.w3.org/2000/svg\" xmlns:xlink=\"http://www.w3.org/1999/xlink\" width=\"100.0\" height=\"100.0\" viewBox=\"53.31949373561657 6.811773182400956 0.00029252876686314266 0.000443634986655006\" preserveAspectRatio=\"xMinYMin meet\"><g transform=\"matrix(1,0,0,-1,0,13.623989999788567)\"><path fill-rule=\"evenodd\" fill=\"#66cc99\" stroke=\"#555555\" stroke-width=\"8.87269973310012e-06\" opacity=\"0.6\" d=\"M 53.319510166542,6.81181961357306 L 53.319520166542,6.812200386462179 L 53.319769833458,6.812170386708851 L 53.319759833458,6.811789613326388 L 53.319510166542,6.81181961357306 z\" /></g></svg>"
      ],
      "text/plain": [
       "<shapely.geometry.polygon.Polygon at 0x154455c1888>"
      ]
     },
     "execution_count": 76,
     "metadata": {},
     "output_type": "execute_result"
    }
   ],
   "source": [
    "polygon2"
   ]
  },
  {
   "cell_type": "code",
   "execution_count": 82,
   "metadata": {},
   "outputs": [
    {
     "name": "stdout",
     "output_type": "stream",
     "text": [
      "array('d', [53.3196, 53.31961, 53.31968, 53.31967, 53.3196]) array('d', [6.81197, 6.81205, 6.81202, 6.81194, 6.81197])\n"
     ]
    },
    {
     "data": {
      "text/plain": [
       "[<matplotlib.lines.Line2D at 0x1544623d088>]"
      ]
     },
     "execution_count": 82,
     "metadata": {},
     "output_type": "execute_result"
    },
    {
     "data": {
      "image/png": "[encoded data removed]",
      "text/plain": [
       "<Figure size 432x288 with 1 Axes>"
      ]
     },
     "metadata": {
      "needs_background": "light"
     },
     "output_type": "display_data"
    }
   ],
   "source": [
    "x,y = polygon.exterior.xy\n",
    "l,k = polygon2.exterior.xy\n",
    "print(x,y)\n",
    "\n",
    "plt.plot(y,x)\n",
    "plt.plot(k,l)"
   ]
  },
  {
   "cell_type": "code",
   "execution_count": 62,
   "metadata": {},
   "outputs": [
    {
     "data": {
      "image/svg+xml": [
       "<svg xmlns=\"http://www.w3.org/2000/svg\" xmlns:xlink=\"http://www.w3.org/1999/xlink\" width=\"100.0\" height=\"100.0\" viewBox=\"0.84 0.84 4.32 4.32\" preserveAspectRatio=\"xMinYMin meet\"><g transform=\"matrix(1,0,0,-1,0,6.0)\"><polyline fill=\"none\" stroke=\"#66cc99\" stroke-width=\"0.0864\" points=\"1.0,4.0 5.0,5.0 4.0,2.0 2.0,1.0 1.0,4.0\" opacity=\"0.8\" /></g></svg>"
      ],
      "text/plain": [
       "<shapely.geometry.polygon.LinearRing at 0x1544466a508>"
      ]
     },
     "execution_count": 62,
     "metadata": {},
     "output_type": "execute_result"
    }
   ],
   "source": [
    "polygon.exterior"
   ]
  },
  {
   "cell_type": "code",
   "execution_count": null,
   "metadata": {},
   "outputs": [],
   "source": [
    "known_point = [53.31960, 6.81197]\n",
    "center = [53.31964, 6.811994999999998]\n",
    "d = 10/1000\n",
    "r_earth = 6378\n",
    "d_latitude = (d / r_earth) * (180 / math.pi)\n",
    "d_longitude = (d / r_earth) * (180 / math.pi) / math.cos(coord[0] * math.pi/180)\n",
    "\n"
   ]
  },
  {
   "cell_type": "code",
   "execution_count": 26,
   "metadata": {},
   "outputs": [
    {
     "data": {
      "text/plain": [
       "[[[253, 193], [187, 193], [187, 157], [253, 157]]]"
      ]
     },
     "execution_count": 26,
     "metadata": {},
     "output_type": "execute_result"
    }
   ],
   "source": [
    "import pyclipper\n",
    "\n",
    "subj = ((180, 200), (260, 200), (260, 150), (180, 150))\n",
    "\n",
    "pco = pyclipper.PyclipperOffset()\n",
    "pco.AddPath(subj, pyclipper.JT_ROUND, pyclipper.ET_CLOSEDPOLYGON)\n",
    "\n",
    "solution = pco.Execute(-7.0)\n",
    "solution"
   ]
  },
  {
   "cell_type": "code",
   "execution_count": 44,
   "metadata": {},
   "outputs": [
    {
     "name": "stdout",
     "output_type": "stream",
     "text": [
      "POLYGON ((53.3196 6.81197, 53.31961 6.81205, 53.31968 6.81202, 53.31967 6.81194, 53.3196 6.81197))\n",
      "POLYGON ((53.31951016847159 6.812120383196696, 53.31952016847158 6.812200383231934, 53.31959016847158 6.812170383478601, 53.31958016847159 6.812090383443362, 53.31951016847159 6.812120383196696))\n"
     ]
    },
    {
     "data": {
      "text/plain": [
       "[<matplotlib.lines.Line2D at 0x7f4141b083a0>]"
      ]
     },
     "execution_count": 44,
     "metadata": {},
     "output_type": "execute_result"
    },
    {
     "data": {
      "image/png": "[encoded data removed]",
      "text/plain": [
       "<Figure size 432x288 with 1 Axes>"
      ]
     },
     "metadata": {
      "needs_background": "light"
     },
     "output_type": "display_data"
    }
   ],
   "source": [
    "coordinates = [[53.31960, 6.81197], [53.31961, 6.81205], [53.31968, 6.81202], [53.31967, 6.81194], [53.31960, 6.81197]]\n",
    "polygon = geometry.Polygon(coordinates)\n",
    "\n",
    "scaled_coordinates = []\n",
    "\n",
    "R = 6378137\n",
    "\n",
    "dn = 10\n",
    "de = 10\n",
    "\n",
    "for coord in coordinates:\n",
    "    lat = coord[0]\n",
    "    lon = coord[1]\n",
    "\n",
    "    dLat = dn / R\n",
    "    dLon = de / (R * math.cos(math.pi * lat / 180))\n",
    "\n",
    "    lat0 = lat + dLat * 180 / math.pi\n",
    "    lon0 = lon + dLon * 180 / math.pi\n",
    "    \n",
    "    scaled_coordinates.append([lat0, lon0])\n",
    "\n",
    "scaled_polygon = geometry.Polygon(scaled_coordinates)\n",
    "\n",
    "print(polygon)\n",
    "print(scaled_polygon)\n",
    "x,y = polygon.exterior.xy\n",
    "l,k = scaled_polygon.exterior.xy\n",
    "\n",
    "plt.plot(y,x)\n",
    "plt.plot(k,l)"
   ]
  },
  {
   "cell_type": "code",
   "execution_count": 77,
   "metadata": {},
   "outputs": [
    {
     "data": {
      "text/plain": [
       "[<matplotlib.lines.Line2D at 0x7f4148c573d0>]"
      ]
     },
     "execution_count": 77,
     "metadata": {},
     "output_type": "execute_result"
    },
    {
     "data": {
      "image/png": "[encoded data removed]",
      "text/plain": [
       "<Figure size 432x288 with 1 Axes>"
      ]
     },
     "metadata": {
      "needs_background": "light"
     },
     "output_type": "display_data"
    }
   ],
   "source": [
    "coordinates = [[53.31960, 6.81197], [53.31961, 6.81205], [53.31968, 6.81202], [53.31967, 6.81194], [53.31960, 6.81197]]\n",
    "\n",
    "clipper_offset     = pyclipper.PyclipperOffset()\n",
    "coordinates_scaled = pyclipper.scale_to_clipper(coordinates)\n",
    "\n",
    "clipper_offset.AddPath(coordinates_scaled, pyclipper.JT_ROUND, pyclipper.ET_CLOSEDPOLYGON)\n",
    "\n",
    "new_coordinates = clipper_offset.Execute(pyclipper.scale_to_clipper(.00005))\n",
    "\n",
    "scaled_coordinates = pyclipper.scale_from_clipper(new_coordinates)\n",
    "\n",
    "polygon        = geometry.Polygon(coordinates)\n",
    "scaled_polygon = geometry.Polygon(scaled_coordinates[0])\n",
    "\n",
    "x,y = polygon.exterior.xy\n",
    "l,k = scaled_polygon.exterior.xy\n",
    "\n",
    "plt.plot(y,x)\n",
    "plt.plot(k,l)"
   ]
  }
 ],
 "metadata": {
  "kernelspec": {
   "display_name": "Python 3",
   "language": "python",
   "name": "python3"
  },
  "language_info": {
   "codemirror_mode": {
    "name": "ipython",
    "version": 3
   },
   "file_extension": ".py",
   "mimetype": "text/x-python",
   "name": "python",
   "nbconvert_exporter": "python",
   "pygments_lexer": "ipython3",
   "version": "3.8.2"
  }
 },
 "nbformat": 4,
 "nbformat_minor": 4
}
