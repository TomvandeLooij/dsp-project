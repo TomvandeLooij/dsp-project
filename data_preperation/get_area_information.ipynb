{
 "cells": [
  {
   "cell_type": "code",
   "execution_count": 69,
   "metadata": {},
   "outputs": [
    {
     "name": "stderr",
     "output_type": "stream",
     "text": [
      "c:\\users\\rianne\\appdata\\local\\programs\\python\\python37\\lib\\site-packages\\tqdm\\std.py:668: FutureWarning: The Panel class is removed from pandas. Accessing it from the top-level namespace will also be removed in the next version\n",
      "  from pandas import Panel\n"
     ]
    }
   ],
   "source": [
    "import pandas as pd \n",
    "import numpy as np\n",
    "import matplotlib.pyplot as plt\n",
    "import pyclipper\n",
    "from ast import literal_eval\n",
    "from tqdm import tqdm\n",
    "from shapely.geometry import Polygon, LineString\n",
    "import shapely.wkt\n",
    "from collections import Counter, OrderedDict\n",
    "from sklearn.preprocessing import MinMaxScaler\n",
    "\n",
    "tqdm.pandas()"
   ]
  },
  {
   "cell_type": "markdown",
   "metadata": {},
   "source": [
    "## Load dataframe with information from Amsterdam oud_oost"
   ]
  },
  {
   "cell_type": "code",
   "execution_count": 18,
   "metadata": {},
   "outputs": [
    {
     "name": "stdout",
     "output_type": "stream",
     "text": [
      "Wall time: 2.02 s\n"
     ]
    }
   ],
   "source": [
    "info_city = pd.read_csv(\"oud_oost_original.csv\")\n",
    "info_city[\"pand_id\"] = info_city[\"pand_id\"].apply(str)"
   ]
  },
  {
   "cell_type": "code",
   "execution_count": 19,
   "metadata": {},
   "outputs": [
    {
     "name": "stderr",
     "output_type": "stream",
     "text": [
      "100%|████████████████████████████████████████████████████████████████████████████| 4211/4211 [00:01<00:00, 2250.02it/s]\n"
     ]
    }
   ],
   "source": [
    "def get_info(group):\n",
    "    # een adress in het pand\n",
    "    if len(group) == 1:\n",
    "        # staart\n",
    "        straat = str(group.openbareRuimteNaam.values[0])\n",
    "        \n",
    "        # huisnummer\n",
    "        huisnummers = str(int(group.huisnummer.values[0]))\n",
    "        \n",
    "        # postcode\n",
    "        try:\n",
    "            postcode = str(group.postcode.values[0])\n",
    "        except:\n",
    "            postcode = \"unknown\"\n",
    "    \n",
    "    # meerdere adressen in een pand\n",
    "    else:\n",
    "        # straat\n",
    "        alle_straten = group.openbareRuimteNaam.unique()\n",
    "        if len(alle_straten) == 1:\n",
    "            straat = alle_straten[0]\n",
    "        else:\n",
    "            straat = str(group.openbareRuimteNaam.mode().values[0])\n",
    "        \n",
    "        # huisnummer\n",
    "        alle_huisnummers = group.huisnummer.unique()\n",
    "        if len(alle_huisnummers) == 1:\n",
    "            huisnummers = str(int(alle_huisnummers[0]))\n",
    "        else:\n",
    "            huisnummers = str(int(min(alle_huisnummers))) + \"-\" + str(int(max(alle_huisnummers)))\n",
    "            \n",
    "        # postcode\n",
    "        alle_postcodes = group.postcode.unique()\n",
    "        if len(alle_postcodes) == 1:\n",
    "            postcode = str(alle_postcodes[0])    \n",
    "        else:\n",
    "            print(\"meer dan een postcode\")\n",
    "    \n",
    "    return str(straat + ' ' + huisnummers + \"\\n\" + postcode  + \" Amsterdam\")\n",
    "\n",
    "info_adresses = info_city.groupby([\"pand_id\", \"postcode\"]).progress_apply(lambda x:get_info(x)).reset_index()"
   ]
  },
  {
   "cell_type": "code",
   "execution_count": 20,
   "metadata": {},
   "outputs": [],
   "source": [
    "def combine_info(rows):\n",
    "    if len(rows)>1:\n",
    "        adress = str()\n",
    "        for row in rows[0]:\n",
    "            street = row.split(\"\\n\")\n",
    "            adress = adress + street[0] + \" \" + street[1].split(\" \")[0] + \"\\n\"\n",
    "        adress = adress + \"All in Amsterdam\"\n",
    "        return(adress)\n",
    "    else:\n",
    "        return(rows[0].values[0])    \n",
    "\n",
    "info_adresses = info_adresses.groupby(\"pand_id\").apply(lambda x:combine_info(x)).reset_index().rename(columns={0:\"full_adress\"})"
   ]
  },
  {
   "cell_type": "code",
   "execution_count": 21,
   "metadata": {},
   "outputs": [],
   "source": [
    "info_building = info_city[[\"pand_id\", \"wgs\"]].drop_duplicates()\n",
    "info_building[\"wgs\"] = info_building.wgs.apply(lambda x:literal_eval(x))\n",
    "info_function = info_city.groupby(\"pand_id\").gebruiksdoelVerblijfsobject.apply(lambda x: x.tolist()).reset_index()"
   ]
  },
  {
   "cell_type": "code",
   "execution_count": 22,
   "metadata": {},
   "outputs": [],
   "source": [
    "city_info = pd.merge(info_adresses, info_building, on=\"pand_id\", how=\"right\").merge(info_function, on=\"pand_id\", how=\"left\")"
   ]
  },
  {
   "cell_type": "code",
   "execution_count": 23,
   "metadata": {},
   "outputs": [
    {
     "data": {
      "text/html": [
       "<div>\n",
       "<style scoped>\n",
       "    .dataframe tbody tr th:only-of-type {\n",
       "        vertical-align: middle;\n",
       "    }\n",
       "\n",
       "    .dataframe tbody tr th {\n",
       "        vertical-align: top;\n",
       "    }\n",
       "\n",
       "    .dataframe thead th {\n",
       "        text-align: right;\n",
       "    }\n",
       "</style>\n",
       "<table border=\"1\" class=\"dataframe\">\n",
       "  <thead>\n",
       "    <tr style=\"text-align: right;\">\n",
       "      <th></th>\n",
       "      <th>pand_id</th>\n",
       "      <th>full_adress</th>\n",
       "      <th>wgs</th>\n",
       "      <th>gebruiksdoelVerblijfsobject</th>\n",
       "    </tr>\n",
       "  </thead>\n",
       "  <tbody>\n",
       "    <tr>\n",
       "      <th>0</th>\n",
       "      <td>363100012061216.0</td>\n",
       "      <td>Kraaipanstraat 29\\n1091PG Amsterdam</td>\n",
       "      <td>[[52.35238128594593, 4.920002139317494], [52.3...</td>\n",
       "      <td>[woonfunctie]</td>\n",
       "    </tr>\n",
       "    <tr>\n",
       "      <th>1</th>\n",
       "      <td>363100012061274.0</td>\n",
       "      <td>Pretoriusstraat 85\\n1092GD Amsterdam</td>\n",
       "      <td>[[52.35448101198129, 4.921149991481547], [52.3...</td>\n",
       "      <td>[woonfunctie, woonfunctie, woonfunctie, woonfu...</td>\n",
       "    </tr>\n",
       "    <tr>\n",
       "      <th>2</th>\n",
       "      <td>363100012061397.0</td>\n",
       "      <td>Oosterpark 16\\n1092AG Amsterdam</td>\n",
       "      <td>[[52.35813891596806, 4.918202870826519], [52.3...</td>\n",
       "      <td>[woonfunctie]</td>\n",
       "    </tr>\n",
       "    <tr>\n",
       "      <th>3</th>\n",
       "      <td>363100012061441.0</td>\n",
       "      <td>Hertzogstraat 7\\n1092VS Amsterdam</td>\n",
       "      <td>[[52.356361649110845, 4.9243825529648015], [52...</td>\n",
       "      <td>[woonfunctie, woonfunctie, woonfunctie, woonfu...</td>\n",
       "    </tr>\n",
       "    <tr>\n",
       "      <th>4</th>\n",
       "      <td>363100012061506.0</td>\n",
       "      <td>Vrolikstraat 204\\n1092TT Amsterdam</td>\n",
       "      <td>[[52.357379461769796, 4.922498603589044], [52....</td>\n",
       "      <td>[woonfunctie, woonfunctie, woonfunctie, woonfu...</td>\n",
       "    </tr>\n",
       "  </tbody>\n",
       "</table>\n",
       "</div>"
      ],
      "text/plain": [
       "             pand_id                           full_adress  \\\n",
       "0  363100012061216.0   Kraaipanstraat 29\\n1091PG Amsterdam   \n",
       "1  363100012061274.0  Pretoriusstraat 85\\n1092GD Amsterdam   \n",
       "2  363100012061397.0       Oosterpark 16\\n1092AG Amsterdam   \n",
       "3  363100012061441.0     Hertzogstraat 7\\n1092VS Amsterdam   \n",
       "4  363100012061506.0    Vrolikstraat 204\\n1092TT Amsterdam   \n",
       "\n",
       "                                                 wgs  \\\n",
       "0  [[52.35238128594593, 4.920002139317494], [52.3...   \n",
       "1  [[52.35448101198129, 4.921149991481547], [52.3...   \n",
       "2  [[52.35813891596806, 4.918202870826519], [52.3...   \n",
       "3  [[52.356361649110845, 4.9243825529648015], [52...   \n",
       "4  [[52.357379461769796, 4.922498603589044], [52....   \n",
       "\n",
       "                         gebruiksdoelVerblijfsobject  \n",
       "0                                      [woonfunctie]  \n",
       "1  [woonfunctie, woonfunctie, woonfunctie, woonfu...  \n",
       "2                                      [woonfunctie]  \n",
       "3  [woonfunctie, woonfunctie, woonfunctie, woonfu...  \n",
       "4  [woonfunctie, woonfunctie, woonfunctie, woonfu...  "
      ]
     },
     "execution_count": 23,
     "metadata": {},
     "output_type": "execute_result"
    }
   ],
   "source": [
    "city_info.head()"
   ]
  },
  {
   "cell_type": "markdown",
   "metadata": {},
   "source": [
    "## Calculate offset_small and offset_big for buildings"
   ]
  },
  {
   "cell_type": "code",
   "execution_count": 24,
   "metadata": {},
   "outputs": [],
   "source": [
    "def get_offset(coordinates, radius):\n",
    "    # transform radius to right size for clipper\n",
    "    radius = radius/100000\n",
    "\n",
    "    # do clipper calculations to get offset\n",
    "    clipper_offset     = pyclipper.PyclipperOffset()\n",
    "    coordinates_scaled = pyclipper.scale_to_clipper(coordinates)\n",
    "\n",
    "    clipper_offset.AddPath(coordinates_scaled, pyclipper.JT_ROUND, pyclipper.ET_CLOSEDPOLYGON)\n",
    "\n",
    "    new_coordinates    = clipper_offset.Execute(pyclipper.scale_to_clipper(radius))\n",
    "    scaled_coordinates = pyclipper.scale_from_clipper(new_coordinates)\n",
    "    \n",
    "    return scaled_coordinates[0]"
   ]
  },
  {
   "cell_type": "code",
   "execution_count": 26,
   "metadata": {},
   "outputs": [
    {
     "name": "stderr",
     "output_type": "stream",
     "text": [
      "100%|█████████████████████████████████████████████████████████████████████████████| 3772/3772 [00:28<00:00, 130.24it/s]\n",
      "100%|██████████████████████████████████████████████████████████████████████████████| 3772/3772 [00:47<00:00, 80.20it/s]\n",
      "100%|█████████████████████████████████████████████████████████████████████████████| 3772/3772 [00:09<00:00, 399.47it/s]\n"
     ]
    }
   ],
   "source": [
    "# small offset\n",
    "city_info[\"offset_small\"] = city_info.wgs.progress_apply(lambda x:get_offset(x, 10))\n",
    "# big offset\n",
    "city_info[\"offset_big\"] = city_info.wgs.progress_apply(lambda x:get_offset(x, 25))\n",
    "# offset for finding neighbors\n",
    "city_info[\"offset_neighbors\"] = city_info.wgs.progress_apply(lambda x:get_offset(x,1))"
   ]
  },
  {
   "cell_type": "markdown",
   "metadata": {},
   "source": [
    "## Find overlapping buildings"
   ]
  },
  {
   "cell_type": "code",
   "execution_count": 27,
   "metadata": {},
   "outputs": [],
   "source": [
    "def get_overlap_polygons(offset, frame):\n",
    "    poly = Polygon(offset)\n",
    "    frame[\"intersect\"] = frame.wgs.apply(lambda x:Polygon(x).intersects(poly))\n",
    "    \n",
    "    ids = [float(i) for i in frame[frame.intersect].pand_id.values]\n",
    "    return ids"
   ]
  },
  {
   "cell_type": "markdown",
   "metadata": {},
   "source": [
    "Next step can take about 15 minutes, progress is shown."
   ]
  },
  {
   "cell_type": "code",
   "execution_count": 29,
   "metadata": {},
   "outputs": [
    {
     "name": "stderr",
     "output_type": "stream",
     "text": [
      "100%|██████████████████████████████████████████████████████████████████████████████| 3772/3772 [05:57<00:00, 10.55it/s]\n",
      "100%|██████████████████████████████████████████████████████████████████████████████| 3772/3772 [05:59<00:00, 10.48it/s]\n",
      "100%|██████████████████████████████████████████████████████████████████████████████| 3772/3772 [06:06<00:00, 10.29it/s]\n"
     ]
    }
   ],
   "source": [
    "buildings = city_info[[\"pand_id\", \"wgs\"]].copy()\n",
    "city_info[\"neighbors\"] = city_info.offset_neighbors.progress_apply(lambda x:get_overlap_polygons(x, buildings))\n",
    "city_info[\"linked_small\"] = city_info.offset_small.progress_apply(lambda x:get_overlap_polygons(x, buildings))\n",
    "city_info[\"linked_big\"] = city_info.offset_big.progress_apply(lambda x:get_overlap_polygons(x, buildings))"
   ]
  },
  {
   "cell_type": "code",
   "execution_count": 45,
   "metadata": {},
   "outputs": [
    {
     "data": {
      "text/plain": [
       "0       None\n",
       "1       None\n",
       "2       None\n",
       "3       None\n",
       "4       None\n",
       "        ... \n",
       "3767    None\n",
       "3768    None\n",
       "3769    None\n",
       "3770    None\n",
       "3771    None\n",
       "Length: 3772, dtype: object"
      ]
     },
     "execution_count": 45,
     "metadata": {},
     "output_type": "execute_result"
    }
   ],
   "source": [
    "# # remove id from own building\n",
    "city_info.apply(lambda x:x.neighbors.remove(float(x.pand_id)), axis=1)\n",
    "city_info.apply(lambda x:x.linked_small.remove(float(x.pand_id)), axis=1)\n",
    "city_info.apply(lambda x:x.linked_big.remove(float(x.pand_id)), axis=1)"
   ]
  },
  {
   "cell_type": "markdown",
   "metadata": {},
   "source": [
    "## Find overlapping tram and metro lines"
   ]
  },
  {
   "cell_type": "code",
   "execution_count": 46,
   "metadata": {},
   "outputs": [],
   "source": [
    "def convert(test):\n",
    "    test = test.replace('\"', '')\n",
    "    test2 = test.split(',')\n",
    "\n",
    "    test3 = [x.split(' ') for x in test2]\n",
    "\n",
    "    final = []\n",
    "    for coord in test3:\n",
    "        if len(coord)>2:\n",
    "            coord = [float(c) for c in coord if c != \"\"]\n",
    "        else:\n",
    "            coord = [float(c) for c in coord]\n",
    "        final.append(coord)\n",
    "    return final"
   ]
  },
  {
   "cell_type": "code",
   "execution_count": 78,
   "metadata": {},
   "outputs": [],
   "source": [
    "ov = pd.read_csv(\"tram en metro lijnen plus stations.csv\")\n",
    "ov[\"lijn_coordinaten\"] = ov.lijn_coordinaten.apply(lambda x:convert(x))"
   ]
  },
  {
   "cell_type": "code",
   "execution_count": 48,
   "metadata": {},
   "outputs": [],
   "source": [
    "def get_overlap_polygon_line(offset, frame):\n",
    "    poly = Polygon(offset)\n",
    "    frame[\"intersect\"] = frame.lijn_coordinaten.apply(lambda x:LineString(x).intersects(poly))\n",
    "    \n",
    "    ids = [float(i) for i in frame[frame.intersect].number.values]\n",
    "    return ids"
   ]
  },
  {
   "cell_type": "code",
   "execution_count": 50,
   "metadata": {},
   "outputs": [
    {
     "name": "stderr",
     "output_type": "stream",
     "text": [
      "100%|█████████████████████████████████████████████████████████████████████████████| 3772/3772 [00:36<00:00, 103.83it/s]\n",
      "100%|█████████████████████████████████████████████████████████████████████████████| 3772/3772 [00:35<00:00, 107.21it/s]\n"
     ]
    }
   ],
   "source": [
    "city_info[\"ov_small\"] = city_info.offset_small.progress_apply(lambda x:get_overlap_polygon_line(x, ov))\n",
    "city_info[\"ov_big\"] = city_info.offset_big.progress_apply(lambda x:get_overlap_polygon_line(x, ov))"
   ]
  },
  {
   "cell_type": "code",
   "execution_count": 9,
   "metadata": {},
   "outputs": [
    {
     "data": {
      "text/html": [
       "<div>\n",
       "<style scoped>\n",
       "    .dataframe tbody tr th:only-of-type {\n",
       "        vertical-align: middle;\n",
       "    }\n",
       "\n",
       "    .dataframe tbody tr th {\n",
       "        vertical-align: top;\n",
       "    }\n",
       "\n",
       "    .dataframe thead th {\n",
       "        text-align: right;\n",
       "    }\n",
       "</style>\n",
       "<table border=\"1\" class=\"dataframe\">\n",
       "  <thead>\n",
       "    <tr style=\"text-align: right;\">\n",
       "      <th></th>\n",
       "      <th>pand_id</th>\n",
       "      <th>full_adress</th>\n",
       "      <th>wgs</th>\n",
       "      <th>gebruiksdoelVerblijfsobject</th>\n",
       "      <th>offset_small</th>\n",
       "      <th>offset_big</th>\n",
       "      <th>offset_neighbors</th>\n",
       "      <th>neighbors</th>\n",
       "      <th>linked_small</th>\n",
       "      <th>linked_big</th>\n",
       "      <th>ov_small</th>\n",
       "      <th>ov_big</th>\n",
       "      <th>roads_small</th>\n",
       "      <th>roads_big</th>\n",
       "    </tr>\n",
       "  </thead>\n",
       "  <tbody>\n",
       "    <tr>\n",
       "      <th>0</th>\n",
       "      <td>3.631000e+14</td>\n",
       "      <td>Eerste Boerhaavestraat 1\\n1091RZ Amsterdam</td>\n",
       "      <td>[[52.358244740379014, 4.906877228363365], [52....</td>\n",
       "      <td>['industry function', 'residential function', ...</td>\n",
       "      <td>[[52.35828490881249, 4.90665795141831], [52.35...</td>\n",
       "      <td>[[52.35828508576378, 4.90650795167312], [52.35...</td>\n",
       "      <td>[[52.35828463640064, 4.9067479516379535], [52....</td>\n",
       "      <td>[363100012160348.0]</td>\n",
       "      <td>[363100012160348.0, 363100012160950.0, 3631000...</td>\n",
       "      <td>[363100012159916.0, 363100012160348.0, 3631000...</td>\n",
       "      <td>[]</td>\n",
       "      <td>[]</td>\n",
       "      <td>[]</td>\n",
       "      <td>[]</td>\n",
       "    </tr>\n",
       "    <tr>\n",
       "      <th>1</th>\n",
       "      <td>3.631000e+14</td>\n",
       "      <td>Eerste Boerhaavestraat 2\\n1091SB Amsterdam</td>\n",
       "      <td>[[52.357993489808614, 4.906806682187448], [52....</td>\n",
       "      <td>['residential function', 'other usage', 'resid...</td>\n",
       "      <td>[[52.357980388682336, 4.906641049776226], [52....</td>\n",
       "      <td>[[52.357980728615075, 4.906491050031036], [52....</td>\n",
       "      <td>[[52.35798009764403, 4.906731049530208], [52.3...</td>\n",
       "      <td>[363100012152835.0, 363100012165668.0]</td>\n",
       "      <td>[363100012152835.0, 363100012143801.0, 3631000...</td>\n",
       "      <td>[363100012236021.0, 363100012160348.0, 3631000...</td>\n",
       "      <td>[]</td>\n",
       "      <td>[]</td>\n",
       "      <td>[]</td>\n",
       "      <td>[]</td>\n",
       "    </tr>\n",
       "    <tr>\n",
       "      <th>2</th>\n",
       "      <td>3.631000e+14</td>\n",
       "      <td>Eerste Boerhaavestraat 3\\n1091RZ Amsterdam</td>\n",
       "      <td>[[52.35826230344714, 4.906963883103816], [52.3...</td>\n",
       "      <td>['residential function', 'residential function...</td>\n",
       "      <td>[[52.35824508219957, 4.906777228694409], [52.3...</td>\n",
       "      <td>[[52.358245245181024, 4.906627228949219], [52....</td>\n",
       "      <td>[[52.358244818169624, 4.906867228914052], [52....</td>\n",
       "      <td>[363100012236021.0, 363100012160950.0]</td>\n",
       "      <td>[363100012236021.0, 363100012160950.0, 3631000...</td>\n",
       "      <td>[363100012236021.0, 363100012159916.0, 3631000...</td>\n",
       "      <td>[]</td>\n",
       "      <td>[]</td>\n",
       "      <td>[]</td>\n",
       "      <td>[]</td>\n",
       "    </tr>\n",
       "    <tr>\n",
       "      <th>3</th>\n",
       "      <td>3.631000e+14</td>\n",
       "      <td>Eerste Boerhaavestraat 4\\n1091SB Amsterdam</td>\n",
       "      <td>[[52.358007051008784, 4.906872813644981], [52....</td>\n",
       "      <td>['industry function', 'residential function', ...</td>\n",
       "      <td>[[52.35799377691001, 4.906706682406366], [52.3...</td>\n",
       "      <td>[[52.3579938900657, 4.906556682661176], [52.35...</td>\n",
       "      <td>[[52.35799358272925, 4.906796682626009], [52.3...</td>\n",
       "      <td>[363100012159916.0, 363100012143801.0]</td>\n",
       "      <td>[363100012159916.0, 363100012143801.0, 3631000...</td>\n",
       "      <td>[363100012236021.0, 363100012159916.0, 3631000...</td>\n",
       "      <td>[]</td>\n",
       "      <td>[]</td>\n",
       "      <td>[]</td>\n",
       "      <td>[]</td>\n",
       "    </tr>\n",
       "    <tr>\n",
       "      <th>4</th>\n",
       "      <td>3.631000e+14</td>\n",
       "      <td>Eerste Boerhaavestraat 5\\n1091RZ Amsterdam</td>\n",
       "      <td>[[52.35827993971986, 4.90705087475251], [52.35...</td>\n",
       "      <td>['residential function', 'residential function...</td>\n",
       "      <td>[[52.35826265066862, 4.906863883603364], [52.3...</td>\n",
       "      <td>[[52.358262822031975, 4.906713883858174], [52....</td>\n",
       "      <td>[[52.35826238198206, 4.906953883823007], [52.3...</td>\n",
       "      <td>[363100012160348.0, 363100012156395.0]</td>\n",
       "      <td>[363100012236021.0, 363100012160348.0, 3631000...</td>\n",
       "      <td>[363100012236021.0, 363100012160348.0, 3631000...</td>\n",
       "      <td>[]</td>\n",
       "      <td>[]</td>\n",
       "      <td>[]</td>\n",
       "      <td>[]</td>\n",
       "    </tr>\n",
       "  </tbody>\n",
       "</table>\n",
       "</div>"
      ],
      "text/plain": [
       "        pand_id                                 full_adress  \\\n",
       "0  3.631000e+14  Eerste Boerhaavestraat 1\\n1091RZ Amsterdam   \n",
       "1  3.631000e+14  Eerste Boerhaavestraat 2\\n1091SB Amsterdam   \n",
       "2  3.631000e+14  Eerste Boerhaavestraat 3\\n1091RZ Amsterdam   \n",
       "3  3.631000e+14  Eerste Boerhaavestraat 4\\n1091SB Amsterdam   \n",
       "4  3.631000e+14  Eerste Boerhaavestraat 5\\n1091RZ Amsterdam   \n",
       "\n",
       "                                                 wgs  \\\n",
       "0  [[52.358244740379014, 4.906877228363365], [52....   \n",
       "1  [[52.357993489808614, 4.906806682187448], [52....   \n",
       "2  [[52.35826230344714, 4.906963883103816], [52.3...   \n",
       "3  [[52.358007051008784, 4.906872813644981], [52....   \n",
       "4  [[52.35827993971986, 4.90705087475251], [52.35...   \n",
       "\n",
       "                         gebruiksdoelVerblijfsobject  \\\n",
       "0  ['industry function', 'residential function', ...   \n",
       "1  ['residential function', 'other usage', 'resid...   \n",
       "2  ['residential function', 'residential function...   \n",
       "3  ['industry function', 'residential function', ...   \n",
       "4  ['residential function', 'residential function...   \n",
       "\n",
       "                                        offset_small  \\\n",
       "0  [[52.35828490881249, 4.90665795141831], [52.35...   \n",
       "1  [[52.357980388682336, 4.906641049776226], [52....   \n",
       "2  [[52.35824508219957, 4.906777228694409], [52.3...   \n",
       "3  [[52.35799377691001, 4.906706682406366], [52.3...   \n",
       "4  [[52.35826265066862, 4.906863883603364], [52.3...   \n",
       "\n",
       "                                          offset_big  \\\n",
       "0  [[52.35828508576378, 4.90650795167312], [52.35...   \n",
       "1  [[52.357980728615075, 4.906491050031036], [52....   \n",
       "2  [[52.358245245181024, 4.906627228949219], [52....   \n",
       "3  [[52.3579938900657, 4.906556682661176], [52.35...   \n",
       "4  [[52.358262822031975, 4.906713883858174], [52....   \n",
       "\n",
       "                                    offset_neighbors  \\\n",
       "0  [[52.35828463640064, 4.9067479516379535], [52....   \n",
       "1  [[52.35798009764403, 4.906731049530208], [52.3...   \n",
       "2  [[52.358244818169624, 4.906867228914052], [52....   \n",
       "3  [[52.35799358272925, 4.906796682626009], [52.3...   \n",
       "4  [[52.35826238198206, 4.906953883823007], [52.3...   \n",
       "\n",
       "                                neighbors  \\\n",
       "0                     [363100012160348.0]   \n",
       "1  [363100012152835.0, 363100012165668.0]   \n",
       "2  [363100012236021.0, 363100012160950.0]   \n",
       "3  [363100012159916.0, 363100012143801.0]   \n",
       "4  [363100012160348.0, 363100012156395.0]   \n",
       "\n",
       "                                        linked_small  \\\n",
       "0  [363100012160348.0, 363100012160950.0, 3631000...   \n",
       "1  [363100012152835.0, 363100012143801.0, 3631000...   \n",
       "2  [363100012236021.0, 363100012160950.0, 3631000...   \n",
       "3  [363100012159916.0, 363100012143801.0, 3631000...   \n",
       "4  [363100012236021.0, 363100012160348.0, 3631000...   \n",
       "\n",
       "                                          linked_big ov_small ov_big  \\\n",
       "0  [363100012159916.0, 363100012160348.0, 3631000...       []     []   \n",
       "1  [363100012236021.0, 363100012160348.0, 3631000...       []     []   \n",
       "2  [363100012236021.0, 363100012159916.0, 3631000...       []     []   \n",
       "3  [363100012236021.0, 363100012159916.0, 3631000...       []     []   \n",
       "4  [363100012236021.0, 363100012160348.0, 3631000...       []     []   \n",
       "\n",
       "  roads_small roads_big  \n",
       "0          []        []  \n",
       "1          []        []  \n",
       "2          []        []  \n",
       "3          []        []  \n",
       "4          []        []  "
      ]
     },
     "execution_count": 9,
     "metadata": {},
     "output_type": "execute_result"
    }
   ],
   "source": [
    "city_info.head()"
   ]
  },
  {
   "cell_type": "markdown",
   "metadata": {},
   "source": [
    "## replace funtion names"
   ]
  },
  {
   "cell_type": "code",
   "execution_count": 51,
   "metadata": {},
   "outputs": [],
   "source": [
    "def translate_functions(functions):\n",
    "    \n",
    "    mapper = {\n",
    "        \"woonfunctie\":\"residential function\",\n",
    "        \"winkelfunctie\":\"shopping function\",\n",
    "        \"industriefunctie\":\"industry function\",\n",
    "        \"bijeenkomstfunctie\":\"meet function\",\n",
    "        \"kantoorfunctie\":\"office function\",\n",
    "        \"overige gebruiksfunctie\":\"other usage\",\n",
    "        \"onderwijsfunctie\":\"educational function\",\n",
    "        \"gezondheidszorgfunctie\":\"health care function\",\n",
    "        \"sportfunctie\":\"sports function\",\n",
    "        \"logiesfunctie\":\"accomodation function\",\n",
    "        \"celfunctie\":\"cell function\"\n",
    "    }\n",
    "    \n",
    "    functions = [mapper[function] for function in functions]\n",
    "    \n",
    "    return functions"
   ]
  },
  {
   "cell_type": "code",
   "execution_count": 53,
   "metadata": {},
   "outputs": [],
   "source": [
    "city_info[\"gebruiksdoelVerblijfsobject\"] = city_info.gebruiksdoelVerblijfsobject.apply(lambda x:translate_functions(x))"
   ]
  },
  {
   "cell_type": "markdown",
   "metadata": {},
   "source": [
    "## find overlapping roads"
   ]
  },
  {
   "cell_type": "code",
   "execution_count": 55,
   "metadata": {},
   "outputs": [],
   "source": [
    "df_roads = pd.read_csv(\"PLUSHOOFDNETTEN.csv\", delimiter=\";\")\n",
    "df_roads = df_roads[['OBJECTNUMMER', \"STT_NAAM\", \"AUTO\", \"WKT_LAT_LNG\"]][df_roads.AUTO.notnull()]\n",
    "df_roads['WKT_LAT_LNG'] = df_roads.WKT_LAT_LNG.apply(lambda x:x.replace(\"LINESTRING(\", \"\").replace(\")\", \"\"))"
   ]
  },
  {
   "cell_type": "code",
   "execution_count": 56,
   "metadata": {},
   "outputs": [],
   "source": [
    "df_emergency = pd.read_csv(\"emergency_routes.csv\")\n",
    "df_emergency['AUTO'] = \"calamiteit\""
   ]
  },
  {
   "cell_type": "code",
   "execution_count": 59,
   "metadata": {},
   "outputs": [],
   "source": [
    "# merge the two road csv's\n",
    "all_roads = pd.concat([df_roads.drop(columns=\"OBJECTNUMMER\"), df_emergency[['STT_NAAM', 'AUTO', 'WKT_LAT_LNG']]]).reset_index().drop(columns='index')\n",
    "# renaming to two entities\n",
    "all_roads['AUTO'] = all_roads.AUTO.replace({'PLUS':'plus', 'HOOFD':'hoofd', 'CORRIDOR':'plus', 'PLUS_BGG':'plus', 'CORRIDOR_B':'plus'})\n",
    "# create number for each road as identifier\n",
    "all_roads['number'] = all_roads.index\n",
    "# make from strings a list\n",
    "all_roads[\"WKT_LAT_LNG\"] = all_roads.WKT_LAT_LNG.apply(convert)"
   ]
  },
  {
   "cell_type": "code",
   "execution_count": 60,
   "metadata": {},
   "outputs": [],
   "source": [
    "def get_overlap_polygon_line(offset, frame):\n",
    "    poly = Polygon(offset)\n",
    "    frame[\"intersect\"] = frame.WKT_LAT_LNG.apply(lambda x:LineString(x).intersects(poly))\n",
    "    \n",
    "    ids = [float(i) for i in frame[frame.intersect].number.values]\n",
    "    return ids"
   ]
  },
  {
   "cell_type": "code",
   "execution_count": 61,
   "metadata": {},
   "outputs": [
    {
     "name": "stderr",
     "output_type": "stream",
     "text": [
      "100%|██████████████████████████████████████████████████████████████████████████████| 3772/3772 [02:58<00:00, 21.13it/s]\n",
      "100%|██████████████████████████████████████████████████████████████████████████████| 3772/3772 [03:00<00:00, 20.84it/s]\n"
     ]
    }
   ],
   "source": [
    "city_info['roads_small'] = city_info.offset_small.progress_apply(lambda x:get_overlap_polygon_line(x, all_roads))\n",
    "city_info['roads_big'] = city_info.offset_big.progress_apply(lambda x:get_overlap_polygon_line(x, all_roads))"
   ]
  },
  {
   "cell_type": "markdown",
   "metadata": {},
   "source": [
    "## calculate score fore three focusses"
   ]
  },
  {
   "cell_type": "code",
   "execution_count": 85,
   "metadata": {},
   "outputs": [],
   "source": [
    "def ov_score(ov_numbers, mapper, frame=ov):\n",
    "    \n",
    "    # get ov ids\n",
    "#     ov_numbers = literal_eval(ov_numbers)\n",
    "    ov_ids = [int(number) for number in ov_numbers]\n",
    "    \n",
    "    # get their modality\n",
    "    types = list(frame[frame.number.isin(ov_ids)].modaliteit.values)\n",
    "    \n",
    "    # map to score\n",
    "    ov_score = sum([mapper[t] for t in types])\n",
    "    return ov_score\n",
    "\n",
    "def road_score(road_numbers, mapper, frame=all_roads):\n",
    "    \n",
    "    # get road ids\n",
    "#     road_numbers = literal_eval(road_numbers)\n",
    "    road_ids = [int(number) for number in road_numbers]\n",
    "    \n",
    "    # get their modality\n",
    "    types = list(frame[frame.number.isin(road_ids)].AUTO.values)\n",
    "    \n",
    "    # map to score\n",
    "    road_score = sum([mapper[t] for t in types])\n",
    "    return road_score\n",
    "\n",
    "def function_score(functions, buildings, mapper, frame=city_info):\n",
    "    \n",
    "    # get functions of buildings in radius\n",
    "#     ids = literal_eval(buildings)\n",
    "    radius_functions = list(frame[frame.pand_id.isin(buildings)].gebruiksdoelVerblijfsobject.explode().values)\n",
    "    \n",
    "    # add functions of own building\n",
    "    all_functions = radius_functions + functions\n",
    "    \n",
    "    # map to score\n",
    "    function_score = sum([mapper[function] for function in all_functions])\n",
    "    return function_score"
   ]
  },
  {
   "cell_type": "code",
   "execution_count": 86,
   "metadata": {},
   "outputs": [],
   "source": [
    "def get_score_small(row, ov_mapper, road_mapper, function_mapper):\n",
    "    score_ov = ov_score(row.ov_small, ov_mapper)\n",
    "    score_road = road_score(row.roads_small, road_mapper)\n",
    "    score_building = function_score(row.gebruiksdoelVerblijfsobject, row.linked_small, function_mapper)\n",
    "    \n",
    "    total_score = score_ov + score_road + score_building\n",
    "    return total_score\n",
    "    \n",
    "def get_score_big(row, ov_mapper, road_mapper, function_mapper):\n",
    "    score_ov = ov_score(row.ov_big, ov_mapper)\n",
    "    score_road = road_score(row.roads_big, road_mapper)\n",
    "    score_building = function_score(row.gebruiksdoelVerblijfsobject, row.linked_big, function_mapper)\n",
    "    \n",
    "    total_score = score_ov + score_road + score_building\n",
    "    return total_score"
   ]
  },
  {
   "cell_type": "code",
   "execution_count": 87,
   "metadata": {},
   "outputs": [],
   "source": [
    "scaler = MinMaxScaler()"
   ]
  },
  {
   "cell_type": "markdown",
   "metadata": {},
   "source": [
    "### general"
   ]
  },
  {
   "cell_type": "code",
   "execution_count": 88,
   "metadata": {},
   "outputs": [],
   "source": [
    "general_ov_mapper = {\n",
    "    'Tram' :3,\n",
    "    'Metro':4\n",
    "}\n",
    "\n",
    "general_function_mapper = {\n",
    "    'other usage' : 0, \n",
    "    'shopping function' : 1,\n",
    "    'sports function' : 1, \n",
    "    'accomodation function' : 2, \n",
    "    'cell function' : 3,\n",
    "    'industry function' : 2,\n",
    "    'office function' : 1, \n",
    "    'residential function' : 0,\n",
    "    'meet function' : 1, \n",
    "    'educational function' : 2, \n",
    "    'health care function' : 3\n",
    "}\n",
    "\n",
    "general_road_mapper = {\n",
    "    'calamiteit':3,\n",
    "    'hoofd':3,\n",
    "    'plus':3\n",
    "}"
   ]
  },
  {
   "cell_type": "code",
   "execution_count": 89,
   "metadata": {},
   "outputs": [
    {
     "name": "stderr",
     "output_type": "stream",
     "text": [
      "100%|█████████████████████████████████████████████████████████████████████████████| 3772/3772 [00:06<00:00, 541.03it/s]\n",
      "100%|█████████████████████████████████████████████████████████████████████████████| 3772/3772 [00:07<00:00, 514.30it/s]\n"
     ]
    }
   ],
   "source": [
    "city_info['score_small_default'] = city_info.progress_apply(lambda x:get_score_small(x, general_ov_mapper, general_road_mapper, general_function_mapper), axis=1)\n",
    "city_info['score_big_default'] = city_info.progress_apply(lambda x:get_score_big(x, general_ov_mapper, general_road_mapper, general_function_mapper), axis=1)"
   ]
  },
  {
   "cell_type": "code",
   "execution_count": 107,
   "metadata": {},
   "outputs": [],
   "source": [
    "df_scaled = pd.DataFrame(scaler.fit_transform(city_info[['score_small_default', 'score_big_default']]), columns=['score_small_default', 'score_big_default'])\n",
    "city_info = pd.concat([city_info, df_scaled], axis=1)"
   ]
  },
  {
   "cell_type": "markdown",
   "metadata": {},
   "source": [
    "### residential focus"
   ]
  },
  {
   "cell_type": "code",
   "execution_count": 108,
   "metadata": {},
   "outputs": [],
   "source": [
    "residential_function_mapper = { \n",
    "    'other usage' : 1, \n",
    "    'shopping function' : 1,\n",
    "    'sports function' : 1, \n",
    "    'accomodation function' : 1, \n",
    "    'cell function' : 2,\n",
    "    'industry function' : 1,\n",
    "    'office function' : 1, \n",
    "    'residential function' : 6,\n",
    "    'meet function' : 1, \n",
    "    'educational function' : 1, \n",
    "    'health care function' : 2\n",
    "} \n",
    "\n",
    "residential_ov_mapper = { \n",
    "    'Tram' : 3, \n",
    "    'Metro' : 4 \n",
    "} \n",
    "\n",
    "residential_road_mapper = { \n",
    "    'hoofd' : 3, \n",
    "    'plus' : 3, \n",
    "    'calamiteit' : 3 \n",
    "} "
   ]
  },
  {
   "cell_type": "code",
   "execution_count": 109,
   "metadata": {},
   "outputs": [
    {
     "name": "stderr",
     "output_type": "stream",
     "text": [
      "100%|█████████████████████████████████████████████████████████████████████████████| 3772/3772 [00:07<00:00, 524.00it/s]\n",
      "100%|█████████████████████████████████████████████████████████████████████████████| 3772/3772 [00:07<00:00, 518.97it/s]\n"
     ]
    }
   ],
   "source": [
    "city_info['score_small_residential'] = city_info.progress_apply(lambda x:get_score_small(x, residential_ov_mapper, residential_road_mapper, residential_function_mapper), axis=1)\n",
    "city_info['score_big_residential'] = city_info.progress_apply(lambda x:get_score_big(x, residential_ov_mapper, residential_road_mapper, residential_function_mapper), axis=1)"
   ]
  },
  {
   "cell_type": "code",
   "execution_count": 110,
   "metadata": {},
   "outputs": [],
   "source": [
    "df_scaled = pd.DataFrame(scaler.fit_transform(city_info[['score_small_residential', 'score_big_residential']]), columns=['score_small_residential', 'score_big_residential'])\n",
    "city_info = pd.concat([city_info, df_scaled], axis=1)"
   ]
  },
  {
   "cell_type": "markdown",
   "metadata": {},
   "source": [
    "### roads focus"
   ]
  },
  {
   "cell_type": "code",
   "execution_count": 111,
   "metadata": {},
   "outputs": [],
   "source": [
    "road_function_mapper = { \n",
    "    'other usage' : 0,  \n",
    "    'shopping function' : 1, \n",
    "    'sports function' : 1,  \n",
    "    'accomodation function' : 2,  \n",
    "    'cell function' : 3, \n",
    "    'industry function' : 2, \n",
    "    'office function' : 1,  \n",
    "    'residential function' : 0, \n",
    "    'meet function' : 1,  \n",
    "    'educational function' : 2,  \n",
    "    'health care function' : 3 \n",
    "} \n",
    "\n",
    "road_ov_mapper = { \n",
    "    'Tram' : 5, \n",
    "    'Metro' : 6 \n",
    "} \n",
    "\n",
    "road_road_mapper = { \n",
    "    'hoofd' : 5, \n",
    "    'plus' : 5, \n",
    "    'calamiteit' : 5 \n",
    "} "
   ]
  },
  {
   "cell_type": "code",
   "execution_count": 112,
   "metadata": {},
   "outputs": [
    {
     "name": "stderr",
     "output_type": "stream",
     "text": [
      "100%|█████████████████████████████████████████████████████████████████████████████| 3772/3772 [00:07<00:00, 511.07it/s]\n",
      "100%|█████████████████████████████████████████████████████████████████████████████| 3772/3772 [00:07<00:00, 515.82it/s]\n"
     ]
    }
   ],
   "source": [
    "city_info['score_small_road'] = city_info.progress_apply(lambda x:get_score_small(x, road_ov_mapper, road_road_mapper, road_function_mapper), axis=1)\n",
    "city_info['score_big_road'] = city_info.progress_apply(lambda x:get_score_big(x, road_ov_mapper, road_road_mapper, road_function_mapper), axis=1)"
   ]
  },
  {
   "cell_type": "code",
   "execution_count": 113,
   "metadata": {},
   "outputs": [],
   "source": [
    "df_scaled = pd.DataFrame(scaler.fit_transform(city_info[['score_small_road', 'score_big_road']]), columns=['score_small_road', 'score_big_road'])\n",
    "city_info = pd.concat([city_info, df_scaled], axis=1)"
   ]
  },
  {
   "cell_type": "markdown",
   "metadata": {},
   "source": [
    "# Final dataframe"
   ]
  },
  {
   "cell_type": "code",
   "execution_count": 115,
   "metadata": {},
   "outputs": [
    {
     "data": {
      "text/html": [
       "<div>\n",
       "<style scoped>\n",
       "    .dataframe tbody tr th:only-of-type {\n",
       "        vertical-align: middle;\n",
       "    }\n",
       "\n",
       "    .dataframe tbody tr th {\n",
       "        vertical-align: top;\n",
       "    }\n",
       "\n",
       "    .dataframe thead th {\n",
       "        text-align: right;\n",
       "    }\n",
       "</style>\n",
       "<table border=\"1\" class=\"dataframe\">\n",
       "  <thead>\n",
       "    <tr style=\"text-align: right;\">\n",
       "      <th></th>\n",
       "      <th>pand_id</th>\n",
       "      <th>full_adress</th>\n",
       "      <th>wgs</th>\n",
       "      <th>gebruiksdoelVerblijfsobject</th>\n",
       "      <th>offset_small</th>\n",
       "      <th>offset_big</th>\n",
       "      <th>offset_neighbors</th>\n",
       "      <th>neighbors</th>\n",
       "      <th>linked_small</th>\n",
       "      <th>linked_big</th>\n",
       "      <th>...</th>\n",
       "      <th>score_small_default</th>\n",
       "      <th>score_big_default</th>\n",
       "      <th>score_small_residential</th>\n",
       "      <th>score_big_residential</th>\n",
       "      <th>score_small_residential</th>\n",
       "      <th>score_big_residential</th>\n",
       "      <th>score_small_road</th>\n",
       "      <th>score_big_road</th>\n",
       "      <th>score_small_road</th>\n",
       "      <th>score_big_road</th>\n",
       "    </tr>\n",
       "  </thead>\n",
       "  <tbody>\n",
       "    <tr>\n",
       "      <th>0</th>\n",
       "      <td>363100012061216.0</td>\n",
       "      <td>Kraaipanstraat 29\\n1091PG Amsterdam</td>\n",
       "      <td>[[52.35238128594593, 4.920002139317494], [52.3...</td>\n",
       "      <td>[residential function]</td>\n",
       "      <td>[[52.35233497899026, 4.919793281238526], [52.3...</td>\n",
       "      <td>[[52.35233529750258, 4.919643281493336], [52.3...</td>\n",
       "      <td>[[52.352355615701526, 4.9198925332166255], [52...</td>\n",
       "      <td>[363100012103446.0, 363100012154076.0]</td>\n",
       "      <td>[363100012086048.0, 363100012103446.0, 3631000...</td>\n",
       "      <td>[363100012061600.0, 363100012062562.0, 3631000...</td>\n",
       "      <td>...</td>\n",
       "      <td>0.0</td>\n",
       "      <td>0.000000</td>\n",
       "      <td>6</td>\n",
       "      <td>6</td>\n",
       "      <td>0.005102</td>\n",
       "      <td>0.005071</td>\n",
       "      <td>0</td>\n",
       "      <td>0</td>\n",
       "      <td>0.0</td>\n",
       "      <td>0.000000</td>\n",
       "    </tr>\n",
       "    <tr>\n",
       "      <th>1</th>\n",
       "      <td>363100012061274.0</td>\n",
       "      <td>Pretoriusstraat 85\\n1092GD Amsterdam</td>\n",
       "      <td>[[52.35448101198129, 4.921149991481547], [52.3...</td>\n",
       "      <td>[residential function, residential function, r...</td>\n",
       "      <td>[[52.35445520747453, 4.920959553681314], [52.3...</td>\n",
       "      <td>[[52.35445553762838, 4.920809554401785], [52.3...</td>\n",
       "      <td>[[52.354454963002354, 4.921049553900957], [52....</td>\n",
       "      <td>[363100012063216.0, 363100012087223.0]</td>\n",
       "      <td>[363100012063216.0, 363100012068336.0, 3631000...</td>\n",
       "      <td>[363100012062237.0, 363100012063216.0, 3631000...</td>\n",
       "      <td>...</td>\n",
       "      <td>0.0</td>\n",
       "      <td>0.000000</td>\n",
       "      <td>24</td>\n",
       "      <td>24</td>\n",
       "      <td>0.023469</td>\n",
       "      <td>0.023327</td>\n",
       "      <td>0</td>\n",
       "      <td>0</td>\n",
       "      <td>0.0</td>\n",
       "      <td>0.000000</td>\n",
       "    </tr>\n",
       "    <tr>\n",
       "      <th>2</th>\n",
       "      <td>363100012061397.0</td>\n",
       "      <td>Oosterpark 16\\n1092AG Amsterdam</td>\n",
       "      <td>[[52.35813891596806, 4.918202870826519], [52.3...</td>\n",
       "      <td>[residential function]</td>\n",
       "      <td>[[52.358118620701134, 4.918022162280977], [52....</td>\n",
       "      <td>[[52.358118715230376, 4.917872162070125], [52....</td>\n",
       "      <td>[[52.35811832174659, 4.91811216250062], [52.35...</td>\n",
       "      <td>[363100012134220.0, 363100012157417.0]</td>\n",
       "      <td>[363100012134220.0, 363100012143269.0, 3631000...</td>\n",
       "      <td>[363100012061601.0, 363100012070318.0, 3631000...</td>\n",
       "      <td>...</td>\n",
       "      <td>0.0</td>\n",
       "      <td>0.122449</td>\n",
       "      <td>6</td>\n",
       "      <td>12</td>\n",
       "      <td>0.005102</td>\n",
       "      <td>0.011156</td>\n",
       "      <td>0</td>\n",
       "      <td>10</td>\n",
       "      <td>0.0</td>\n",
       "      <td>0.123457</td>\n",
       "    </tr>\n",
       "    <tr>\n",
       "      <th>3</th>\n",
       "      <td>363100012061441.0</td>\n",
       "      <td>Hertzogstraat 7\\n1092VS Amsterdam</td>\n",
       "      <td>[[52.356361649110845, 4.9243825529648015], [52...</td>\n",
       "      <td>[residential function, residential function, r...</td>\n",
       "      <td>[[52.35637346049771, 4.924144277349114], [52.3...</td>\n",
       "      <td>[[52.35637373710051, 4.923994277603924], [52.3...</td>\n",
       "      <td>[[52.35637311870232, 4.924234277103096], [52.3...</td>\n",
       "      <td>[363100012136218.0, 363100012233692.0]</td>\n",
       "      <td>[363100012136218.0, 363100012233692.0, 3631000...</td>\n",
       "      <td>[363100012082397.0, 363100012085865.0, 3631000...</td>\n",
       "      <td>...</td>\n",
       "      <td>0.0</td>\n",
       "      <td>0.000000</td>\n",
       "      <td>30</td>\n",
       "      <td>30</td>\n",
       "      <td>0.029592</td>\n",
       "      <td>0.029412</td>\n",
       "      <td>0</td>\n",
       "      <td>0</td>\n",
       "      <td>0.0</td>\n",
       "      <td>0.000000</td>\n",
       "    </tr>\n",
       "    <tr>\n",
       "      <th>4</th>\n",
       "      <td>363100012061506.0</td>\n",
       "      <td>Vrolikstraat 204\\n1092TT Amsterdam</td>\n",
       "      <td>[[52.357379461769796, 4.922498603589044], [52....</td>\n",
       "      <td>[residential function, residential function, r...</td>\n",
       "      <td>[[52.35735902283341, 4.9223246751353145], [52....</td>\n",
       "      <td>[[52.35735957277939, 4.922174676321447], [52.3...</td>\n",
       "      <td>[[52.35735892597586, 4.922414675820619], [52.3...</td>\n",
       "      <td>[363100012092987.0, 363100012158883.0]</td>\n",
       "      <td>[363100012062310.0, 363100012063951.0, 3631000...</td>\n",
       "      <td>[363100012062009.0, 363100012062310.0, 3631000...</td>\n",
       "      <td>...</td>\n",
       "      <td>0.0</td>\n",
       "      <td>0.000000</td>\n",
       "      <td>30</td>\n",
       "      <td>30</td>\n",
       "      <td>0.029592</td>\n",
       "      <td>0.029412</td>\n",
       "      <td>0</td>\n",
       "      <td>0</td>\n",
       "      <td>0.0</td>\n",
       "      <td>0.000000</td>\n",
       "    </tr>\n",
       "  </tbody>\n",
       "</table>\n",
       "<p>5 rows × 26 columns</p>\n",
       "</div>"
      ],
      "text/plain": [
       "             pand_id                           full_adress  \\\n",
       "0  363100012061216.0   Kraaipanstraat 29\\n1091PG Amsterdam   \n",
       "1  363100012061274.0  Pretoriusstraat 85\\n1092GD Amsterdam   \n",
       "2  363100012061397.0       Oosterpark 16\\n1092AG Amsterdam   \n",
       "3  363100012061441.0     Hertzogstraat 7\\n1092VS Amsterdam   \n",
       "4  363100012061506.0    Vrolikstraat 204\\n1092TT Amsterdam   \n",
       "\n",
       "                                                 wgs  \\\n",
       "0  [[52.35238128594593, 4.920002139317494], [52.3...   \n",
       "1  [[52.35448101198129, 4.921149991481547], [52.3...   \n",
       "2  [[52.35813891596806, 4.918202870826519], [52.3...   \n",
       "3  [[52.356361649110845, 4.9243825529648015], [52...   \n",
       "4  [[52.357379461769796, 4.922498603589044], [52....   \n",
       "\n",
       "                         gebruiksdoelVerblijfsobject  \\\n",
       "0                             [residential function]   \n",
       "1  [residential function, residential function, r...   \n",
       "2                             [residential function]   \n",
       "3  [residential function, residential function, r...   \n",
       "4  [residential function, residential function, r...   \n",
       "\n",
       "                                        offset_small  \\\n",
       "0  [[52.35233497899026, 4.919793281238526], [52.3...   \n",
       "1  [[52.35445520747453, 4.920959553681314], [52.3...   \n",
       "2  [[52.358118620701134, 4.918022162280977], [52....   \n",
       "3  [[52.35637346049771, 4.924144277349114], [52.3...   \n",
       "4  [[52.35735902283341, 4.9223246751353145], [52....   \n",
       "\n",
       "                                          offset_big  \\\n",
       "0  [[52.35233529750258, 4.919643281493336], [52.3...   \n",
       "1  [[52.35445553762838, 4.920809554401785], [52.3...   \n",
       "2  [[52.358118715230376, 4.917872162070125], [52....   \n",
       "3  [[52.35637373710051, 4.923994277603924], [52.3...   \n",
       "4  [[52.35735957277939, 4.922174676321447], [52.3...   \n",
       "\n",
       "                                    offset_neighbors  \\\n",
       "0  [[52.352355615701526, 4.9198925332166255], [52...   \n",
       "1  [[52.354454963002354, 4.921049553900957], [52....   \n",
       "2  [[52.35811832174659, 4.91811216250062], [52.35...   \n",
       "3  [[52.35637311870232, 4.924234277103096], [52.3...   \n",
       "4  [[52.35735892597586, 4.922414675820619], [52.3...   \n",
       "\n",
       "                                neighbors  \\\n",
       "0  [363100012103446.0, 363100012154076.0]   \n",
       "1  [363100012063216.0, 363100012087223.0]   \n",
       "2  [363100012134220.0, 363100012157417.0]   \n",
       "3  [363100012136218.0, 363100012233692.0]   \n",
       "4  [363100012092987.0, 363100012158883.0]   \n",
       "\n",
       "                                        linked_small  \\\n",
       "0  [363100012086048.0, 363100012103446.0, 3631000...   \n",
       "1  [363100012063216.0, 363100012068336.0, 3631000...   \n",
       "2  [363100012134220.0, 363100012143269.0, 3631000...   \n",
       "3  [363100012136218.0, 363100012233692.0, 3631000...   \n",
       "4  [363100012062310.0, 363100012063951.0, 3631000...   \n",
       "\n",
       "                                          linked_big  ... score_small_default  \\\n",
       "0  [363100012061600.0, 363100012062562.0, 3631000...  ...                 0.0   \n",
       "1  [363100012062237.0, 363100012063216.0, 3631000...  ...                 0.0   \n",
       "2  [363100012061601.0, 363100012070318.0, 3631000...  ...                 0.0   \n",
       "3  [363100012082397.0, 363100012085865.0, 3631000...  ...                 0.0   \n",
       "4  [363100012062009.0, 363100012062310.0, 3631000...  ...                 0.0   \n",
       "\n",
       "  score_big_default  score_small_residential  score_big_residential  \\\n",
       "0          0.000000                        6                      6   \n",
       "1          0.000000                       24                     24   \n",
       "2          0.122449                        6                     12   \n",
       "3          0.000000                       30                     30   \n",
       "4          0.000000                       30                     30   \n",
       "\n",
       "   score_small_residential  score_big_residential  score_small_road  \\\n",
       "0                 0.005102               0.005071                 0   \n",
       "1                 0.023469               0.023327                 0   \n",
       "2                 0.005102               0.011156                 0   \n",
       "3                 0.029592               0.029412                 0   \n",
       "4                 0.029592               0.029412                 0   \n",
       "\n",
       "   score_big_road  score_small_road  score_big_road  \n",
       "0               0               0.0        0.000000  \n",
       "1               0               0.0        0.000000  \n",
       "2              10               0.0        0.123457  \n",
       "3               0               0.0        0.000000  \n",
       "4               0               0.0        0.000000  \n",
       "\n",
       "[5 rows x 26 columns]"
      ]
     },
     "execution_count": 115,
     "metadata": {},
     "output_type": "execute_result"
    }
   ],
   "source": [
    "city_info.head()"
   ]
  },
  {
   "cell_type": "code",
   "execution_count": 117,
   "metadata": {},
   "outputs": [],
   "source": [
    "# remove offsets since they only require storage and are fastly calculated in the system\n",
    "city_info = city_info.drop(columns=['offset_small', 'offset_big', 'offset_neighbors'])"
   ]
  },
  {
   "cell_type": "code",
   "execution_count": 118,
   "metadata": {},
   "outputs": [],
   "source": [
    "# write df to csv for use in the system\n",
    "city_info.to_csv(\"city_buildings.csv\", index=False)"
   ]
  },
  {
   "cell_type": "code",
   "execution_count": null,
   "metadata": {},
   "outputs": [],
   "source": []
  }
 ],
 "metadata": {
  "kernelspec": {
   "display_name": "Python 3",
   "language": "python",
   "name": "python3"
  },
  "language_info": {
   "codemirror_mode": {
    "name": "ipython",
    "version": 3
   },
   "file_extension": ".py",
   "mimetype": "text/x-python",
   "name": "python",
   "nbconvert_exporter": "python",
   "pygments_lexer": "ipython3",
   "version": "3.7.9"
  }
 },
 "nbformat": 4,
 "nbformat_minor": 4
}
